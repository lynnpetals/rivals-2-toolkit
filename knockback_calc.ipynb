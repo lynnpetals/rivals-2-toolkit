{
 "cells": [
  {
   "cell_type": "code",
   "execution_count": null,
   "metadata": {},
   "outputs": [],
   "source": [
    "# This file is kind of a mess, not gonna lie. It's mostly developmental work in trying to get knockback to approximate the game as much as possible, but imitating float point precision from Unreal is difficult."
   ]
  },
  {
   "cell_type": "code",
   "execution_count": 1,
   "metadata": {},
   "outputs": [],
   "source": [
    "import json\n",
    "import os\n",
    "import math\n",
    "\n",
    "json_path = 'r2data_patch_120.json' # REPLACE WITH YOUR OWN PATH. MAKE SURE NO BACKSLASHES.\n",
    "\n",
    "char_data = json.load(open(json_path, 'r'))"
   ]
  },
  {
   "cell_type": "code",
   "execution_count": 8,
   "metadata": {},
   "outputs": [
    {
     "data": {
      "text/plain": [
       "51.92457692307693"
      ]
     },
     "execution_count": 8,
     "metadata": {},
     "output_type": "execute_result"
    }
   ],
   "source": [
    "# Knockback Simulator\n",
    "\n",
    "opp = \"Zetterburn\"\n",
    "# move = [\"Olympia\", \"Uspecial\", \"Final\"]\n",
    "move = [\"Olympia\", \"Fair\", \"Normal\"]\n",
    "\n",
    "base_kb = char_data[move[0]][move[1]][\"KBs\"][move[2]][\"base_kb\"]\n",
    "scaled_kb = char_data[move[0]][move[1]][\"KBs\"][move[2]][\"kb_scale\"]\n",
    "weight = char_data[opp]['Stats']['Weight']\n",
    "def initial_kb(p):\n",
    "    \n",
    "    return 3 * (base_kb + scaled_kb * 0.120125 * (p + char_data[move[0]][move[1]][\"KBs\"][move[2]][\"damage\"]) * (200 / (weight + 100)))\n",
    "\n",
    "def hs(p):\n",
    "    return math.floor(initial_kb(p) * (4.07/3) * hitstun_multi)\n",
    "def split_component(kb, angle):\n",
    "    return [math.cos(angle) * kb, math.sin(angle) * kb]\n",
    "\n",
    "\n",
    "hitstun_gravity = char_data[opp]['Stats']['HitstunGravity']\n",
    "hitstun_gravity_jerk_frames = 5\n",
    "hitstun_multi = char_data[move[0]][move[1]][\"KBs\"][move[2]]['hitstun']\n",
    "max_fall_speed = char_data[opp]['Stats']['FallSpeedMax']\n",
    "\n",
    "# Only works on angles between 0 and 180.\n",
    "def perfect_down_di(angle):\n",
    "    if angle > 90 and angle <= 180:\n",
    "        return angle + 18\n",
    "    if angle > 0 and angle <= 90:\n",
    "        return angle - 18\n",
    "\n",
    "def di_down(angle):\n",
    "    if angle <= 22 and angle >= -22:\n",
    "        return angle - 18\n",
    "    if angle >= 202 and angle <= 158:\n",
    "        return angle + 18\n",
    "\n",
    "    if angle >= 0 and angle <= 90:\n",
    "        return angle - (270 - angle - 180) / 90 * 18\n",
    "    if angle > 90 and angle <= 180:\n",
    "        return angle + (angle + 180 - 270) / 90 * 18\n",
    "    \n",
    "original_angle = char_data[move[0]][move[1]][\"KBs\"][move[2]]['angle']\n",
    "angle = [original_angle * 2 * math.pi / 360, (di_down(original_angle)) * 2 * math.pi / 360, perfect_down_di(original_angle) * 2 * math.pi / 360]\n",
    "\n",
    "\n",
    "initial_kb(100)"
   ]
  },
  {
   "cell_type": "code",
   "execution_count": 21,
   "metadata": {},
   "outputs": [
    {
     "data": {
      "text/plain": [
       "117.4511346153846"
      ]
     },
     "execution_count": 21,
     "metadata": {},
     "output_type": "execute_result"
    }
   ],
   "source": [
    "opp = \"Zetterburn\"\n",
    "# move = [\"Olympia\", \"Uspecial\", \"Final\"]\n",
    "move = [\"Olympia\", \"Uspecial\", \"Final\"]\n",
    "\n",
    "base_kb = char_data[move[0]][move[1]][\"KBs\"][move[2]][\"base_kb\"]\n",
    "scaled_kb = char_data[move[0]][move[1]][\"KBs\"][move[2]][\"kb_scale\"]\n",
    "weight = char_data[opp]['Stats']['Weight']\n",
    "initial_kb(300)"
   ]
  },
  {
   "cell_type": "code",
   "execution_count": 22,
   "metadata": {},
   "outputs": [
    {
     "data": {
      "text/plain": [
       "118.45534615384615"
      ]
     },
     "execution_count": 22,
     "metadata": {},
     "output_type": "execute_result"
    }
   ],
   "source": [
    "opp = \"Zetterburn\"\n",
    "# move = [\"Olympia\", \"Uspecial\", \"Final\"]\n",
    "move = [\"Olympia\", \"Fair\", \"Normal\"]\n",
    "\n",
    "base_kb = char_data[move[0]][move[1]][\"KBs\"][move[2]][\"base_kb\"]\n",
    "scaled_kb = char_data[move[0]][move[1]][\"KBs\"][move[2]][\"kb_scale\"]\n",
    "weight = char_data[opp]['Stats']['Weight']\n",
    "initial_kb(300)"
   ]
  },
  {
   "cell_type": "code",
   "execution_count": 36,
   "metadata": {},
   "outputs": [
    {
     "data": {
      "text/plain": [
       "[9.861533279694314, 22.14936639327368]"
      ]
     },
     "execution_count": 36,
     "metadata": {},
     "output_type": "execute_result"
    }
   ],
   "source": [
    "split_component(initial_kb(0) - 0.54, angle[1])\n"
   ]
  },
  {
   "cell_type": "code",
   "execution_count": 23,
   "metadata": {},
   "outputs": [
    {
     "data": {
      "text/plain": [
       "[19.966103378546947, 25.555446946873126]"
      ]
     },
     "execution_count": 23,
     "metadata": {},
     "output_type": "execute_result"
    }
   ],
   "source": [
    "split_component(initial_kb(22) - 0.54 * 1, angle)"
   ]
  },
  {
   "cell_type": "code",
   "execution_count": 27,
   "metadata": {},
   "outputs": [
    {
     "data": {
      "text/plain": [
       "0.782608695652174"
      ]
     },
     "execution_count": 27,
     "metadata": {},
     "output_type": "execute_result"
    }
   ],
   "source": [
    "18/23"
   ]
  },
  {
   "cell_type": "code",
   "execution_count": 41,
   "metadata": {},
   "outputs": [],
   "source": [
    "x = list()\n",
    "base_kb = 6\n",
    "scaled_kb = 0.6\n",
    "p = 4\n",
    "prev_hs = hs(0+p)\n",
    "for a in range(0,200):\n",
    "    if hs(a+p) > prev_hs:\n",
    "        x.append( a)\n",
    "        prev_hs = hs(a+p)"
   ]
  },
  {
   "cell_type": "code",
   "execution_count": 42,
   "metadata": {},
   "outputs": [
    {
     "name": "stdout",
     "output_type": "stream",
     "text": [
      "2\n",
      "5\n",
      "8\n",
      "12\n",
      "15\n",
      "19\n",
      "22\n",
      "25\n",
      "29\n",
      "32\n",
      "36\n",
      "39\n",
      "42\n",
      "46\n",
      "49\n",
      "53\n",
      "56\n",
      "60\n",
      "63\n",
      "66\n",
      "70\n",
      "73\n",
      "77\n",
      "80\n",
      "83\n",
      "87\n",
      "90\n",
      "94\n",
      "97\n",
      "100\n",
      "104\n",
      "107\n",
      "111\n",
      "114\n",
      "118\n",
      "121\n",
      "124\n",
      "128\n",
      "131\n",
      "135\n",
      "138\n",
      "141\n",
      "145\n",
      "148\n",
      "152\n",
      "155\n",
      "159\n",
      "162\n",
      "165\n",
      "169\n",
      "172\n",
      "176\n",
      "179\n",
      "182\n",
      "186\n",
      "189\n",
      "193\n",
      "196\n",
      "199\n"
     ]
    }
   ],
   "source": [
    "for i in x:\n",
    "    print(i)"
   ]
  },
  {
   "cell_type": "code",
   "execution_count": 358,
   "metadata": {},
   "outputs": [
    {
     "name": "stdout",
     "output_type": "stream",
     "text": [
      "Clairen 78\n",
      "Etalus 87\n",
      "Fleet 77\n",
      "Forsburn 82\n",
      "Kragg 88\n",
      "Loxodont 88\n",
      "Maypul 76\n",
      "Orcane 84\n",
      "Ranno 79\n",
      "Wrastor 73\n",
      "Zetterburn 82\n"
     ]
    }
   ],
   "source": [
    "for k,v in weights.items():\n",
    "    p = 30\n",
    "    hitstun_frames = 0\n",
    "    while(hitstun_frames < 34):\n",
    "        initial_kb = 3 * (base_kb + scaled_kb * 0.120125 * p * (200 / (v + 100)))\n",
    "        hitstun_frames = math.floor(initial_kb * (4.07/3) * hitstun_multi *0.94)\n",
    "        p += 1\n",
    "    print(k,p-8)\n"
   ]
  },
  {
   "cell_type": "code",
   "execution_count": 259,
   "metadata": {},
   "outputs": [],
   "source": [
    "weights = dict()\n",
    "for k,v in char_data.items():\n",
    "    weights[k] = v['Stats']['Weight']"
   ]
  },
  {
   "cell_type": "code",
   "execution_count": 260,
   "metadata": {},
   "outputs": [],
   "source": [
    "hitstun_gravity = 1.4\n",
    "hitstun_gravity_jerk_frames = 5\n",
    "hitstun_multi = 1.0\n",
    "hitstun_frames = math.floor(initial_kb * (4.07/3) * hitstun_multi)\n",
    "max_fall_speed = 28"
   ]
  },
  {
   "cell_type": "code",
   "execution_count": 261,
   "metadata": {},
   "outputs": [],
   "source": [
    "kills_off_top = {'AetherianForest': [1930.0, 2180.0],\n",
    " 'AirArmada': [1780.0, 2080.0],\n",
    " 'FireCapital': [1754.0, 2004.0, 2254.0],\n",
    " 'ForestUnderstory': [1930.0, 2180.0],\n",
    " 'GodaiDelta': [1990.0, 2230.0],\n",
    " 'Hodojo': [1675.0, 1935.0, 2195.0],\n",
    " 'HyperboreanHarbor': [1670.0, 1620.0, 1940.0],\n",
    " 'Julesvale': [1900.0, 1630.0, 2170.0],\n",
    " 'MerchantPort': [1860.0, 1660.0, 2140.0],\n",
    " 'RockWall': [1870.0, 1610.0, 2130.0],\n",
    " 'StormsweptPillar': [1935.0, 2260.0],\n",
    " 'TempestPeak': [1955.0, 2260.0],\n",
    " 'TrainingRoom': [1754.0, 1994.0, 2254.0]}"
   ]
  },
  {
   "cell_type": "markdown",
   "metadata": {},
   "source": [
    "for k,v in kills_off_top.items():\n",
    "    kills_off_top[k] = "
   ]
  },
  {
   "cell_type": "code",
   "execution_count": 293,
   "metadata": {},
   "outputs": [
    {
     "data": {
      "text/plain": [
       "0.7660444431189778"
      ]
     },
     "execution_count": 293,
     "metadata": {},
     "output_type": "execute_result"
    }
   ],
   "source": [
    "original_angle = 320\n",
    "angle = original_angle * 2 * math.pi / 360\n",
    "math.cos(angle)"
   ]
  },
  {
   "cell_type": "code",
   "execution_count": 335,
   "metadata": {},
   "outputs": [
    {
     "data": {
      "text/plain": [
       "(-4.1043336927113114e-14, -223.42951973684214)"
      ]
     },
     "execution_count": 335,
     "metadata": {},
     "output_type": "execute_result"
    }
   ],
   "source": [
    "original_angle = 270\n",
    "angle = original_angle * 2 * math.pi / 360\n",
    "\n",
    "initial_kb * math.cos(angle), initial_kb * math.sin(angle)"
   ]
  },
  {
   "cell_type": "code",
   "execution_count": 287,
   "metadata": {},
   "outputs": [
    {
     "data": {
      "text/plain": [
       "1.1437496272431482"
      ]
     },
     "execution_count": 287,
     "metadata": {},
     "output_type": "execute_result"
    }
   ],
   "source": [
    "-135.17290594610424/-118.184"
   ]
  },
  {
   "cell_type": "code",
   "execution_count": 284,
   "metadata": {},
   "outputs": [
    {
     "data": {
      "text/plain": [
       "1.143751304848337"
      ]
     },
     "execution_count": 284,
     "metadata": {},
     "output_type": "execute_result"
    }
   ],
   "source": [
    "161.09279628266887/140.846"
   ]
  },
  {
   "cell_type": "code",
   "execution_count": 280,
   "metadata": {},
   "outputs": [
    {
     "data": {
      "text/plain": [
       "873.4429076125276"
      ]
     },
     "execution_count": 280,
     "metadata": {},
     "output_type": "execute_result"
    }
   ],
   "source": [
    "999/1.1437496272431482"
   ]
  },
  {
   "cell_type": "code",
   "execution_count": 12,
   "metadata": {},
   "outputs": [
    {
     "name": "stdout",
     "output_type": "stream",
     "text": [
      "1638.739\n"
     ]
    }
   ],
   "source": [
    "import math\n",
    "\n",
    "base_kb = 7.5\n",
    "scaled_kb = 1.1\n",
    "weight = 90\n",
    "pre_p = 100 # Post hit percent\n",
    "p = pre_p + 10 # Post hit percent\n",
    "\n",
    "initial_kb = 3 * (base_kb + scaled_kb * 0.120125 * p * (200 / (weight + 100)))\n",
    "\n",
    "hitstun_gravity = 1.4\n",
    "hitstun_gravity_jerk_frames = 5\n",
    "hitstun_multi = 1.0\n",
    "hitstun_frames = math.floor(initial_kb * (4.07/3) * hitstun_multi*.92)\n",
    "max_fall_speed = 28\n",
    "\n",
    "original_angle = 90 - 18\n",
    "angle = original_angle * 2 * math.pi / 360\n",
    "x_kb = initial_kb * math.cos(angle)\n",
    "y_kb = initial_kb * math.sin(angle)\n",
    "[x_kb,y_kb]\n",
    "\n",
    "frame = 1\n",
    "vx = 0\n",
    "vy = 0\n",
    "x_pos = 370.991\n",
    "y_pos = 0.012\n",
    "max_height = 0\n",
    "for a in range(hitstun_frames):\n",
    "    if(frame < hitstun_gravity_jerk_frames):\n",
    "        vy += frame/hitstun_gravity_jerk_frames*-1*hitstun_gravity\n",
    "    else:\n",
    "        vy += hitstun_gravity*-1\n",
    "        vy = max(vy, -1*max_fall_speed)\n",
    "    y_kb -= 0.54 * math.sin(angle)\n",
    "    if y_kb < 0:\n",
    "        y_kb = 0\n",
    "    x_kb -= 0.54 * math.cos(angle)\n",
    "    if x_kb < 0:\n",
    "        x_kb = 0\n",
    "\n",
    "    x_pos += x_kb + vx\n",
    "    y_pos += y_kb + vy\n",
    "    max_height = max(max_height, y_pos)\n",
    "    frame += 1\n",
    "print(\"{:.3f}\".format(max_height))"
   ]
  },
  {
   "cell_type": "code",
   "execution_count": 15,
   "metadata": {},
   "outputs": [
    {
     "name": "stdout",
     "output_type": "stream",
     "text": [
      "1850.366\n"
     ]
    }
   ],
   "source": [
    "import math\n",
    "\n",
    "p = pre_p + 11\n",
    "\n",
    "base_kb = 7.0\n",
    "scaled_kb = 1.0\n",
    "\n",
    "initial_kb = 3 * (base_kb + scaled_kb * 0.120125 * p * (200 / (weight + 100)))\n",
    "\n",
    "hitstun_multi = 1.0\n",
    "hitstun_frames = math.floor(initial_kb * (4.07/3) * hitstun_multi*.92)\n",
    "\n",
    "original_angle = 45 + 18\n",
    "angle = original_angle * 2 * math.pi / 360\n",
    "x_kb = initial_kb * math.cos(angle)\n",
    "y_kb = initial_kb * math.sin(angle)\n",
    "[x_kb,y_kb]\n",
    "\n",
    "frame = 1\n",
    "vx = 0\n",
    "vy = 0\n",
    "x_pos = 370.991\n",
    "y_pos = 0.012\n",
    "max_height = 0\n",
    "for a in range(hitstun_frames):\n",
    "    if(frame < hitstun_gravity_jerk_frames):\n",
    "        vy += frame/hitstun_gravity_jerk_frames*-1*hitstun_gravity\n",
    "    else:\n",
    "        vy += hitstun_gravity*-1\n",
    "        vy = max(vy, -1*max_fall_speed)\n",
    "    y_kb -= 0.54 * math.sin(angle)\n",
    "    if y_kb < 0:\n",
    "        y_kb = 0\n",
    "    x_kb -= 0.54 * math.cos(angle)\n",
    "    if x_kb < 0:\n",
    "        x_kb = 0\n",
    "\n",
    "    x_pos += x_kb + vx\n",
    "    y_pos += y_kb + vy\n",
    "    max_height = max(max_height, x_pos)\n",
    "    frame += 1\n",
    "print(\"{:.3f}\".format(max_height))"
   ]
  },
  {
   "cell_type": "code",
   "execution_count": 364,
   "metadata": {},
   "outputs": [
    {
     "data": {
      "text/plain": [
       "902.3438590276992"
      ]
     },
     "execution_count": 364,
     "metadata": {},
     "output_type": "execute_result"
    }
   ],
   "source": [
    "math.sqrt(871.666*871.666 + 233.287*233.287)"
   ]
  },
  {
   "cell_type": "code",
   "execution_count": 365,
   "metadata": {},
   "outputs": [
    {
     "data": {
      "text/plain": [
       "13.915297009014905"
      ]
     },
     "execution_count": 365,
     "metadata": {},
     "output_type": "execute_result"
    }
   ],
   "source": [
    "6 + 902.3438590276992/114"
   ]
  },
  {
   "cell_type": "code",
   "execution_count": 369,
   "metadata": {},
   "outputs": [
    {
     "data": {
      "text/plain": [
       "17.09434340134657"
      ]
     },
     "execution_count": 369,
     "metadata": {},
     "output_type": "execute_result"
    }
   ],
   "source": [
    "d = math.sqrt(pow(1417.5-152.82, 2) + pow(300.014-313.801, 2))\n",
    "d / 114 + 6"
   ]
  },
  {
   "cell_type": "code",
   "execution_count": 370,
   "metadata": {},
   "outputs": [
    {
     "data": {
      "text/plain": [
       "17.293090598057066"
      ]
     },
     "execution_count": 370,
     "metadata": {},
     "output_type": "execute_result"
    }
   ],
   "source": [
    "d = math.sqrt(pow(1440.185-152.82, 2) + pow(302.762-313.801, 2))\n",
    "d / 114 + 6"
   ]
  },
  {
   "cell_type": "code",
   "execution_count": 18,
   "metadata": {},
   "outputs": [
    {
     "data": {
      "text/plain": [
       "60"
      ]
     },
     "execution_count": 18,
     "metadata": {},
     "output_type": "execute_result"
    }
   ],
   "source": [
    "import math\n",
    "\n",
    "base_kb = 10\n",
    "scaled_kb = 0.45\n",
    "weight = 90\n",
    "pre_p = 100 # Post hit percent\n",
    "p = pre_p + 10 # Post hit percent\n",
    "\n",
    "initial_kb = 3 * (base_kb + scaled_kb * 0.120125 * p * (200 / (weight + 100)))\n",
    "\n",
    "hitstun_gravity = 1.4\n",
    "hitstun_gravity_jerk_frames = 5\n",
    "hitstun_multi = 1.0\n",
    "hitstun_frames = math.floor(initial_kb * (4.07/3) * hitstun_multi*.92)\n",
    "max_fall_speed = 28\n",
    "hitstun_frames"
   ]
  },
  {
   "cell_type": "code",
   "execution_count": null,
   "metadata": {},
   "outputs": [],
   "source": [
    "57 frames of hitstun for ftilt\n",
    "= 20 frames of endlag from ftilt\n",
    "9 frames of uspecial\n",
    "5 frames of tether startup\n",
    "8 frames of nair startup\n"
   ]
  },
  {
   "cell_type": "code",
   "execution_count": 19,
   "metadata": {},
   "outputs": [
    {
     "data": {
      "text/plain": [
       "42"
      ]
     },
     "execution_count": 19,
     "metadata": {},
     "output_type": "execute_result"
    }
   ],
   "source": [
    "20+9+5+8"
   ]
  },
  {
   "cell_type": "code",
   "execution_count": 24,
   "metadata": {},
   "outputs": [
    {
     "data": {
      "text/plain": [
       "13.803040003355015"
      ]
     },
     "execution_count": 24,
     "metadata": {},
     "output_type": "execute_result"
    }
   ],
   "source": [
    "6 + math.sqrt(pow(428.897-0.012, 2) + pow(778.413+27.531,2))/117"
   ]
  },
  {
   "cell_type": "code",
   "execution_count": null,
   "metadata": {},
   "outputs": [],
   "source": [
    "original_angle = 85 - 18\n",
    "angle = original_angle * 2 * math.pi / 360\n",
    "x_kb = initial_kb * math.cos(angle)\n",
    "y_kb = initial_kb * math.sin(angle)\n",
    "[x_kb,y_kb]\n",
    "\n",
    "frame = 1\n",
    "vx = 0\n",
    "vy = 0\n",
    "x_pos = 370.991\n",
    "y_pos = 0.012\n",
    "max_height = 0\n",
    "for a in range(hitstun_frames):\n",
    "    if(frame < hitstun_gravity_jerk_frames):\n",
    "        vy += frame/hitstun_gravity_jerk_frames*-1*hitstun_gravity\n",
    "    else:\n",
    "        vy += hitstun_gravity*-1\n",
    "        vy = max(vy, -1*max_fall_speed)\n",
    "    y_kb -= 0.54 * math.sin(angle)\n",
    "    if y_kb < 0:\n",
    "        y_kb = 0\n",
    "    x_kb -= 0.54 * math.cos(angle)\n",
    "    if x_kb < 0:\n",
    "        x_kb = 0\n",
    "\n",
    "    x_pos += x_kb + vx\n",
    "    y_pos += y_kb + vy\n",
    "    max_height = max(max_height, y_pos)\n",
    "    frame += 1\n",
    "print(\"{:.3f}\".format(max_height))"
   ]
  },
  {
   "cell_type": "code",
   "execution_count": 4,
   "metadata": {},
   "outputs": [
    {
     "data": {
      "text/plain": [
       "635.1175010000001"
      ]
     },
     "execution_count": 4,
     "metadata": {},
     "output_type": "execute_result"
    }
   ],
   "source": [
    "pow(22.501,2) + pow(11.35,2)"
   ]
  },
  {
   "cell_type": "code",
   "execution_count": 3,
   "metadata": {},
   "outputs": [
    {
     "data": {
      "text/plain": [
       "['AetherianForest',\n",
       " 'AirArmada',\n",
       " 'FireCapital',\n",
       " 'ForestUnderstory',\n",
       " 'GodaiDelta',\n",
       " 'Hodojo',\n",
       " 'HyperboreanHarbor',\n",
       " 'Julesvale',\n",
       " 'MerchantPort',\n",
       " 'RockWall',\n",
       " 'StormsweptPillar',\n",
       " 'TempestPeak',\n",
       " 'TrainingRoom']"
      ]
     },
     "execution_count": 3,
     "metadata": {},
     "output_type": "execute_result"
    }
   ],
   "source": [
    "platform_heights = {\n",
    "'GodaiDelta': [240.0],\n",
    "'AetherianForest': [250.0],\n",
    "'ForestUnderstory': [250.0],\n",
    "'FireCapital': [250.0, 500.0],\n",
    "'RockWall': [260.0, 520.0],\n",
    "'Hodojo': [260.0, 520.0],\n",
    "'HyperboreanHarbor': [270.0, 320.0],\n",
    "'Julesvale': [270.0, 540.0],\n",
    "'MerchantPort': [280.0, 480.0],\n",
    "'AirArmada': [300.0],\n",
    "'TempestPeak': [305.0],\n",
    "'StormsweptPillar': [325.0],\n",
    "}\n",
    "platform_heights"
   ]
  },
  {
   "cell_type": "code",
   "execution_count": 26,
   "metadata": {},
   "outputs": [
    {
     "name": "stdout",
     "output_type": "stream",
     "text": [
      "699.449\n"
     ]
    }
   ],
   "source": [
    "platform_heights = {'AetherianForest': [250.0],\n",
    " 'AirArmada': [300.0],\n",
    " 'FireCapital': [500.0, 250.0],\n",
    " 'ForestUnderstory': [250.0],\n",
    " 'GodaiDelta': [240.0],\n",
    " 'Hodojo': [520.0, 260.0],\n",
    " 'HyperboreanHarbor': [270.0, 320.0],\n",
    " 'Julesvale': [270.0, 540.0],\n",
    " 'MerchantPort': [280.0, 480.0],\n",
    " 'RockWall': [260.0, 520.0],\n",
    " 'StormsweptPillar': [325.0],\n",
    " 'TempestPeak': [305.0],\n",
    " 'TrainingRoom': [500.0, 260.0]}\n",
    "\n",
    "import math\n",
    "\n",
    "base_kb = 10.0\n",
    "scaled_kb = 0.45\n",
    "weight = 50\n",
    "\n",
    "\n",
    "\n",
    "\n",
    "# Given a move, finds the location of the final frame of hitstun as well as the max height\n",
    "def calc_move(character, angle):\n",
    "    initial_kb = 3 * (base_kb + scaled_kb * 0.120125 * p * (200 / (weight + 100)))\n",
    "\n",
    "    hitstun_multi = 1.0\n",
    "    hitstun_frames = math.floor(initial_kb * (4.07/3) * hitstun_multi*.92)\n",
    "\n",
    "    original_angle = 85 - 18\n",
    "    angle = original_angle * 2 * math.pi / 360\n",
    "    x_kb = initial_kb * math.cos(angle)\n",
    "    y_kb = initial_kb * math.sin(angle)\n",
    "    [x_kb,y_kb]\n",
    "\n",
    "    frame = 1\n",
    "    vx = 0\n",
    "    vy = 0\n",
    "    x_pos = 370.991\n",
    "    y_pos = 100.011\n",
    "    max_height = 0\n",
    "    for a in range(hitstun_frames):\n",
    "        if(frame < hitstun_gravity_jerk_frames):\n",
    "            vy += frame/hitstun_gravity_jerk_frames*-1*hitstun_gravity\n",
    "        else:\n",
    "            vy += hitstun_gravity*-1\n",
    "            vy = max(vy, -1*max_fall_speed)\n",
    "        y_kb -= 0.54 * math.sin(angle)\n",
    "        if y_kb < 0:\n",
    "            y_kb = 0\n",
    "        x_kb -= 0.54 * math.cos(angle)\n",
    "        if x_kb < 0:\n",
    "            x_kb = 0\n",
    "\n",
    "        x_pos += x_kb + vx\n",
    "        y_pos += y_kb + vy\n",
    "        max_height = max(max_height, y_pos)\n",
    "        frame += 1\n",
    "    print(\"{:.3f}\".format(max_height))\n",
    "\n",
    "\n",
    "pre_p = 0\n",
    "p = pre_p + 11\n",
    "\n",
    "base_kb = 7.0\n",
    "scaled_kb = 1.0\n",
    "\n",
    "initial_kb = 3 * (base_kb + scaled_kb * 0.120125 * p * (200 / (weight + 100)))\n",
    "\n",
    "hitstun_multi = 1.0\n",
    "hitstun_frames = math.floor(initial_kb * (4.07/3) * hitstun_multi*.92)\n",
    "\n",
    "original_angle = 85 - 18\n",
    "angle = original_angle * 2 * math.pi / 360\n",
    "x_kb = initial_kb * math.cos(angle)\n",
    "y_kb = initial_kb * math.sin(angle)\n",
    "[x_kb,y_kb]\n",
    "\n",
    "frame = 1\n",
    "vx = 0\n",
    "vy = 0\n",
    "x_pos = 370.991\n",
    "y_pos = 100.011\n",
    "max_height = 0\n",
    "for a in range(hitstun_frames):\n",
    "    if(frame < hitstun_gravity_jerk_frames):\n",
    "        vy += frame/hitstun_gravity_jerk_frames*-1*hitstun_gravity\n",
    "    else:\n",
    "        vy += hitstun_gravity*-1\n",
    "        vy = max(vy, -1*max_fall_speed)\n",
    "    y_kb -= 0.54 * math.sin(angle)\n",
    "    if y_kb < 0:\n",
    "        y_kb = 0\n",
    "    x_kb -= 0.54 * math.cos(angle)\n",
    "    if x_kb < 0:\n",
    "        x_kb = 0\n",
    "\n",
    "    x_pos += x_kb + vx\n",
    "    y_pos += y_kb + vy\n",
    "    max_height = max(max_height, y_pos)\n",
    "    frame += 1\n",
    "print(\"{:.3f}\".format(max_height))"
   ]
  }
 ],
 "metadata": {
  "kernelspec": {
   "display_name": "Python 3",
   "language": "python",
   "name": "python3"
  },
  "language_info": {
   "codemirror_mode": {
    "name": "ipython",
    "version": 3
   },
   "file_extension": ".py",
   "mimetype": "text/x-python",
   "name": "python",
   "nbconvert_exporter": "python",
   "pygments_lexer": "ipython3",
   "version": "3.12.6"
  }
 },
 "nbformat": 4,
 "nbformat_minor": 2
}
